{
 "cells": [
  {
   "cell_type": "code",
   "execution_count": 11,
   "id": "342cd009",
   "metadata": {},
   "outputs": [
    {
     "ename": "ValueError",
     "evalue": "'a' and 'p' must have same size",
     "output_type": "error",
     "traceback": [
      "\u001b[1;31m---------------------------------------------------------------------------\u001b[0m",
      "\u001b[1;31mValueError\u001b[0m                                Traceback (most recent call last)",
      "Cell \u001b[1;32mIn[11], line 14\u001b[0m\n\u001b[0;32m      3\u001b[0m cfg \u001b[38;5;241m=\u001b[39m ExerciseBuilderConfig(\n\u001b[0;32m      4\u001b[0m     mission_name\u001b[38;5;241m=\u001b[39m\u001b[38;5;124m\"\u001b[39m\u001b[38;5;124mValiantShield\u001b[39m\u001b[38;5;124m\"\u001b[39m,  \u001b[38;5;66;03m# ArcticEdge | ValiantShield | OrientShield | TalismanSabre\u001b[39;00m\n\u001b[0;32m      5\u001b[0m     n_soldiers\u001b[38;5;241m=\u001b[39m\u001b[38;5;241m800\u001b[39m,\n\u001b[1;32m   (...)\u001b[0m\n\u001b[0;32m     10\u001b[0m     max_cost\u001b[38;5;241m=\u001b[39m\u001b[38;5;241m2e6\u001b[39m\n\u001b[0;32m     11\u001b[0m )\n\u001b[0;32m     13\u001b[0m builder \u001b[38;5;241m=\u001b[39m ExerciseBuilder(cfg)\n\u001b[1;32m---> 14\u001b[0m out \u001b[38;5;241m=\u001b[39m \u001b[43mbuilder\u001b[49m\u001b[38;5;241;43m.\u001b[39;49m\u001b[43mbuild\u001b[49m\u001b[43m(\u001b[49m\u001b[43m)\u001b[49m\n\u001b[0;32m     16\u001b[0m \u001b[38;5;28mprint\u001b[39m(out\u001b[38;5;241m.\u001b[39msummary)\n\u001b[0;32m     17\u001b[0m \u001b[38;5;28mprint\u001b[39m(out\u001b[38;5;241m.\u001b[39massignments\u001b[38;5;241m.\u001b[39mhead(\u001b[38;5;241m10\u001b[39m))\n",
      "File \u001b[1;32mc:\\Users\\jonathan.day\\Documents\\emd\\exercise_builder.py:130\u001b[0m, in \u001b[0;36mExerciseBuilder.build\u001b[1;34m(self)\u001b[0m\n\u001b[0;32m    128\u001b[0m bases \u001b[38;5;241m=\u001b[39m \u001b[38;5;28mself\u001b[39m\u001b[38;5;241m.\u001b[39mtemplate[\u001b[38;5;124m\"\u001b[39m\u001b[38;5;124mbases\u001b[39m\u001b[38;5;124m\"\u001b[39m]\n\u001b[0;32m    129\u001b[0m dist  \u001b[38;5;241m=\u001b[39m \u001b[38;5;28mself\u001b[39m\u001b[38;5;241m.\u001b[39mtemplate[\u001b[38;5;124m\"\u001b[39m\u001b[38;5;124mdist\u001b[39m\u001b[38;5;124m\"\u001b[39m]\n\u001b[1;32m--> 130\u001b[0m \u001b[43memd\u001b[49m\u001b[38;5;241;43m.\u001b[39;49m\u001b[43mset_bases\u001b[49m\u001b[43m(\u001b[49m\u001b[43mbases\u001b[49m\u001b[43m,\u001b[49m\u001b[43m \u001b[49m\u001b[43mdist_overrides\u001b[49m\u001b[38;5;241;43m=\u001b[39;49m\u001b[43mdist\u001b[49m\u001b[43m,\u001b[49m\u001b[43m \u001b[49m\u001b[43mreseed\u001b[49m\u001b[38;5;241;43m=\u001b[39;49m\u001b[38;5;28;43mself\u001b[39;49m\u001b[38;5;241;43m.\u001b[39;49m\u001b[43mcfg\u001b[49m\u001b[38;5;241;43m.\u001b[39;49m\u001b[43mseed\u001b[49m\u001b[43m)\u001b[49m\n\u001b[0;32m    132\u001b[0m \u001b[38;5;66;03m# Apply mission biases\u001b[39;00m\n\u001b[0;32m    133\u001b[0m mb \u001b[38;5;241m=\u001b[39m \u001b[38;5;28mself\u001b[39m\u001b[38;5;241m.\u001b[39mtemplate[\u001b[38;5;124m\"\u001b[39m\u001b[38;5;124mmission_bias\u001b[39m\u001b[38;5;124m\"\u001b[39m]\n",
      "File \u001b[1;32mc:\\Users\\jonathan.day\\Documents\\emd\\emd_agent.py:186\u001b[0m, in \u001b[0;36mEMD.set_bases\u001b[1;34m(self, bases, dist_overrides, reseed)\u001b[0m\n\u001b[0;32m    184\u001b[0m \u001b[38;5;28mself\u001b[39m\u001b[38;5;241m.\u001b[39mpcs_costs \u001b[38;5;241m=\u001b[39m \u001b[38;5;28mself\u001b[39m\u001b[38;5;241m.\u001b[39m_generate_pcs_costs(dist_overrides)\n\u001b[0;32m    185\u001b[0m \u001b[38;5;66;03m# Regenerate datasets so the new base set propagates everywhere\u001b[39;00m\n\u001b[1;32m--> 186\u001b[0m \u001b[38;5;28mself\u001b[39m\u001b[38;5;241m.\u001b[39msoldiers \u001b[38;5;241m=\u001b[39m \u001b[38;5;28;43mself\u001b[39;49m\u001b[38;5;241;43m.\u001b[39;49m\u001b[43m_generate_soldiers\u001b[49m\u001b[43m(\u001b[49m\u001b[43m)\u001b[49m\n\u001b[0;32m    187\u001b[0m \u001b[38;5;28mself\u001b[39m\u001b[38;5;241m.\u001b[39mbillets  \u001b[38;5;241m=\u001b[39m \u001b[38;5;28mself\u001b[39m\u001b[38;5;241m.\u001b[39m_generate_billets()\n",
      "File \u001b[1;32mc:\\Users\\jonathan.day\\Documents\\emd\\emd_agent.py:89\u001b[0m, in \u001b[0;36mEMD._generate_soldiers\u001b[1;34m(self)\u001b[0m\n\u001b[0;32m     85\u001b[0m \u001b[38;5;28;01mdef\u001b[39;00m \u001b[38;5;21m_generate_soldiers\u001b[39m(\u001b[38;5;28mself\u001b[39m) \u001b[38;5;241m-\u001b[39m\u001b[38;5;241m>\u001b[39m pd\u001b[38;5;241m.\u001b[39mDataFrame:\n\u001b[0;32m     86\u001b[0m     n \u001b[38;5;241m=\u001b[39m \u001b[38;5;28mself\u001b[39m\u001b[38;5;241m.\u001b[39mn_soldiers\n\u001b[0;32m     87\u001b[0m     df \u001b[38;5;241m=\u001b[39m pd\u001b[38;5;241m.\u001b[39mDataFrame({\n\u001b[0;32m     88\u001b[0m         \u001b[38;5;124m\"\u001b[39m\u001b[38;5;124msoldier_id\u001b[39m\u001b[38;5;124m\"\u001b[39m: \u001b[38;5;28mrange\u001b[39m(\u001b[38;5;241m1\u001b[39m, n\u001b[38;5;241m+\u001b[39m\u001b[38;5;241m1\u001b[39m),\n\u001b[1;32m---> 89\u001b[0m         \u001b[38;5;124m\"\u001b[39m\u001b[38;5;124mbase\u001b[39m\u001b[38;5;124m\"\u001b[39m: \u001b[43mnp\u001b[49m\u001b[38;5;241;43m.\u001b[39;49m\u001b[43mrandom\u001b[49m\u001b[38;5;241;43m.\u001b[39;49m\u001b[43mchoice\u001b[49m\u001b[43m(\u001b[49m\u001b[38;5;28;43mself\u001b[39;49m\u001b[38;5;241;43m.\u001b[39;49m\u001b[43mbases\u001b[49m\u001b[43m,\u001b[49m\u001b[43m \u001b[49m\u001b[43mn\u001b[49m\u001b[43m,\u001b[49m\u001b[43m \u001b[49m\u001b[43mp\u001b[49m\u001b[38;5;241;43m=\u001b[39;49m\u001b[43m[\u001b[49m\u001b[38;5;241;43m0.15\u001b[39;49m\u001b[43m,\u001b[49m\u001b[38;5;241;43m0.10\u001b[39;49m\u001b[43m,\u001b[49m\u001b[38;5;241;43m0.25\u001b[39;49m\u001b[43m,\u001b[49m\u001b[38;5;241;43m0.40\u001b[39;49m\u001b[43m,\u001b[49m\u001b[38;5;241;43m0.10\u001b[39;49m\u001b[43m]\u001b[49m\u001b[43m)\u001b[49m,\n\u001b[0;32m     90\u001b[0m         \u001b[38;5;124m\"\u001b[39m\u001b[38;5;124mpaygrade\u001b[39m\u001b[38;5;124m\"\u001b[39m: np\u001b[38;5;241m.\u001b[39mrandom\u001b[38;5;241m.\u001b[39mchoice(\u001b[38;5;28mself\u001b[39m\u001b[38;5;241m.\u001b[39mpaygrades, n, p\u001b[38;5;241m=\u001b[39m[\u001b[38;5;241m0.20\u001b[39m,\u001b[38;5;241m0.40\u001b[39m,\u001b[38;5;241m0.25\u001b[39m,\u001b[38;5;241m0.15\u001b[39m]),\n\u001b[0;32m     91\u001b[0m         \u001b[38;5;124m\"\u001b[39m\u001b[38;5;124mmos\u001b[39m\u001b[38;5;124m\"\u001b[39m: np\u001b[38;5;241m.\u001b[39mrandom\u001b[38;5;241m.\u001b[39mchoice(\u001b[38;5;28mself\u001b[39m\u001b[38;5;241m.\u001b[39mmos_list, n),\n\u001b[0;32m     92\u001b[0m         \u001b[38;5;124m\"\u001b[39m\u001b[38;5;124mskill_level\u001b[39m\u001b[38;5;124m\"\u001b[39m: np\u001b[38;5;241m.\u001b[39mrandom\u001b[38;5;241m.\u001b[39mchoice([\u001b[38;5;241m1\u001b[39m,\u001b[38;5;241m2\u001b[39m,\u001b[38;5;241m3\u001b[39m,\u001b[38;5;241m4\u001b[39m,\u001b[38;5;241m5\u001b[39m], n, p\u001b[38;5;241m=\u001b[39m[\u001b[38;5;241m0.30\u001b[39m,\u001b[38;5;241m0.40\u001b[39m,\u001b[38;5;241m0.20\u001b[39m,\u001b[38;5;241m0.08\u001b[39m,\u001b[38;5;241m0.02\u001b[39m]),\n\u001b[0;32m     93\u001b[0m         \u001b[38;5;124m\"\u001b[39m\u001b[38;5;124mclearance\u001b[39m\u001b[38;5;124m\"\u001b[39m: np\u001b[38;5;241m.\u001b[39mrandom\u001b[38;5;241m.\u001b[39mchoice(\u001b[38;5;28mself\u001b[39m\u001b[38;5;241m.\u001b[39mclearances, n, p\u001b[38;5;241m=\u001b[39m[\u001b[38;5;241m0.10\u001b[39m,\u001b[38;5;241m0.75\u001b[39m,\u001b[38;5;241m0.15\u001b[39m]),\n\u001b[0;32m     94\u001b[0m         \u001b[38;5;124m\"\u001b[39m\u001b[38;5;124mpme\u001b[39m\u001b[38;5;124m\"\u001b[39m: np\u001b[38;5;241m.\u001b[39mrandom\u001b[38;5;241m.\u001b[39mchoice(\u001b[38;5;28mself\u001b[39m\u001b[38;5;241m.\u001b[39mpme, n, p\u001b[38;5;241m=\u001b[39m[\u001b[38;5;241m0.30\u001b[39m,\u001b[38;5;241m0.35\u001b[39m,\u001b[38;5;241m0.25\u001b[39m,\u001b[38;5;241m0.10\u001b[39m]),\n\u001b[0;32m     95\u001b[0m         \u001b[38;5;124m\"\u001b[39m\u001b[38;5;124mairborne\u001b[39m\u001b[38;5;124m\"\u001b[39m: np\u001b[38;5;241m.\u001b[39mrandom\u001b[38;5;241m.\u001b[39mchoice([\u001b[38;5;241m0\u001b[39m,\u001b[38;5;241m1\u001b[39m], n, p\u001b[38;5;241m=\u001b[39m[\u001b[38;5;241m0.70\u001b[39m,\u001b[38;5;241m0.30\u001b[39m]),\n\u001b[0;32m     96\u001b[0m         \u001b[38;5;124m\"\u001b[39m\u001b[38;5;124mpathfinder\u001b[39m\u001b[38;5;124m\"\u001b[39m: np\u001b[38;5;241m.\u001b[39mrandom\u001b[38;5;241m.\u001b[39mchoice([\u001b[38;5;241m0\u001b[39m,\u001b[38;5;241m1\u001b[39m], n, p\u001b[38;5;241m=\u001b[39m[\u001b[38;5;241m0.95\u001b[39m,\u001b[38;5;241m0.05\u001b[39m]),\n\u001b[0;32m     97\u001b[0m         \u001b[38;5;124m\"\u001b[39m\u001b[38;5;124mranger\u001b[39m\u001b[38;5;124m\"\u001b[39m: np\u001b[38;5;241m.\u001b[39mrandom\u001b[38;5;241m.\u001b[39mchoice([\u001b[38;5;241m0\u001b[39m,\u001b[38;5;241m1\u001b[39m], n, p\u001b[38;5;241m=\u001b[39m[\u001b[38;5;241m0.95\u001b[39m,\u001b[38;5;241m0.05\u001b[39m]),\n\u001b[0;32m     98\u001b[0m         \u001b[38;5;124m\"\u001b[39m\u001b[38;5;124mumo\u001b[39m\u001b[38;5;124m\"\u001b[39m: np\u001b[38;5;241m.\u001b[39mrandom\u001b[38;5;241m.\u001b[39mchoice([\u001b[38;5;241m0\u001b[39m,\u001b[38;5;241m1\u001b[39m], n, p\u001b[38;5;241m=\u001b[39m[\u001b[38;5;241m0.95\u001b[39m,\u001b[38;5;241m0.05\u001b[39m]),\n\u001b[0;32m     99\u001b[0m         \u001b[38;5;124m\"\u001b[39m\u001b[38;5;124mm4_score\u001b[39m\u001b[38;5;124m\"\u001b[39m: np\u001b[38;5;241m.\u001b[39mround(np\u001b[38;5;241m.\u001b[39mclip(\u001b[38;5;241m40\u001b[39m\u001b[38;5;241m*\u001b[39mnp\u001b[38;5;241m.\u001b[39mrandom\u001b[38;5;241m.\u001b[39mbeta(\u001b[38;5;241m10\u001b[39m, \u001b[38;5;241m2\u001b[39m, size\u001b[38;5;241m=\u001b[39mn), \u001b[38;5;241m23\u001b[39m, \u001b[38;5;241m40\u001b[39m))\u001b[38;5;241m.\u001b[39mastype(\u001b[38;5;28mint\u001b[39m),\n\u001b[0;32m    100\u001b[0m         \u001b[38;5;124m\"\u001b[39m\u001b[38;5;124macft_score\u001b[39m\u001b[38;5;124m\"\u001b[39m: np\u001b[38;5;241m.\u001b[39mclip(np\u001b[38;5;241m.\u001b[39mrandom\u001b[38;5;241m.\u001b[39mnormal(loc\u001b[38;5;241m=\u001b[39m\u001b[38;5;241m450\u001b[39m, scale\u001b[38;5;241m=\u001b[39m\u001b[38;5;241m60\u001b[39m, size\u001b[38;5;241m=\u001b[39mn), \u001b[38;5;241m360\u001b[39m, \u001b[38;5;241m600\u001b[39m),\n\u001b[0;32m    101\u001b[0m         \u001b[38;5;124m\"\u001b[39m\u001b[38;5;124mbody_composition_pass\u001b[39m\u001b[38;5;124m\"\u001b[39m: np\u001b[38;5;241m.\u001b[39mrandom\u001b[38;5;241m.\u001b[39mchoice([\u001b[38;5;241m0\u001b[39m,\u001b[38;5;241m1\u001b[39m], n, p\u001b[38;5;241m=\u001b[39m[\u001b[38;5;241m0.10\u001b[39m,\u001b[38;5;241m0.90\u001b[39m]),\n\u001b[0;32m    102\u001b[0m         \u001b[38;5;124m\"\u001b[39m\u001b[38;5;124masi_air_assault\u001b[39m\u001b[38;5;124m\"\u001b[39m: np\u001b[38;5;241m.\u001b[39mrandom\u001b[38;5;241m.\u001b[39mchoice([\u001b[38;5;241m0\u001b[39m,\u001b[38;5;241m1\u001b[39m], n, p\u001b[38;5;241m=\u001b[39m[\u001b[38;5;241m0.85\u001b[39m,\u001b[38;5;241m0.15\u001b[39m]),\n\u001b[0;32m    103\u001b[0m         \u001b[38;5;124m\"\u001b[39m\u001b[38;5;124masi_sniper\u001b[39m\u001b[38;5;124m\"\u001b[39m: np\u001b[38;5;241m.\u001b[39mrandom\u001b[38;5;241m.\u001b[39mchoice([\u001b[38;5;241m0\u001b[39m,\u001b[38;5;241m1\u001b[39m], n, p\u001b[38;5;241m=\u001b[39m[\u001b[38;5;241m0.97\u001b[39m,\u001b[38;5;241m0.03\u001b[39m]),\n\u001b[0;32m    104\u001b[0m         \u001b[38;5;124m\"\u001b[39m\u001b[38;5;124masi_jumpmaster\u001b[39m\u001b[38;5;124m\"\u001b[39m: np\u001b[38;5;241m.\u001b[39mrandom\u001b[38;5;241m.\u001b[39mchoice([\u001b[38;5;241m0\u001b[39m,\u001b[38;5;241m1\u001b[39m], n, p\u001b[38;5;241m=\u001b[39m[\u001b[38;5;241m0.95\u001b[39m,\u001b[38;5;241m0.05\u001b[39m]),\n\u001b[0;32m    105\u001b[0m         \u001b[38;5;124m\"\u001b[39m\u001b[38;5;124mdriver_license\u001b[39m\u001b[38;5;124m\"\u001b[39m: np\u001b[38;5;241m.\u001b[39mrandom\u001b[38;5;241m.\u001b[39mchoice([\u001b[38;5;124m\"\u001b[39m\u001b[38;5;124mNone\u001b[39m\u001b[38;5;124m\"\u001b[39m,\u001b[38;5;124m\"\u001b[39m\u001b[38;5;124mHMMWV\u001b[39m\u001b[38;5;124m\"\u001b[39m,\u001b[38;5;124m\"\u001b[39m\u001b[38;5;124mLMTV\u001b[39m\u001b[38;5;124m\"\u001b[39m,\u001b[38;5;124m\"\u001b[39m\u001b[38;5;124mJLTV\u001b[39m\u001b[38;5;124m\"\u001b[39m], n, p\u001b[38;5;241m=\u001b[39m[\u001b[38;5;241m0.40\u001b[39m,\u001b[38;5;241m0.30\u001b[39m,\u001b[38;5;241m0.20\u001b[39m,\u001b[38;5;241m0.10\u001b[39m]),\n\u001b[0;32m    106\u001b[0m         \u001b[38;5;124m\"\u001b[39m\u001b[38;5;124mmed_cat\u001b[39m\u001b[38;5;124m\"\u001b[39m: np\u001b[38;5;241m.\u001b[39mrandom\u001b[38;5;241m.\u001b[39mchoice([\u001b[38;5;241m1\u001b[39m,\u001b[38;5;241m2\u001b[39m,\u001b[38;5;241m3\u001b[39m,\u001b[38;5;241m4\u001b[39m], n, p\u001b[38;5;241m=\u001b[39m[\u001b[38;5;241m0.70\u001b[39m,\u001b[38;5;241m0.20\u001b[39m,\u001b[38;5;241m0.08\u001b[39m,\u001b[38;5;241m0.02\u001b[39m]),\n\u001b[0;32m    107\u001b[0m         \u001b[38;5;124m\"\u001b[39m\u001b[38;5;124mdental_cat\u001b[39m\u001b[38;5;124m\"\u001b[39m: np\u001b[38;5;241m.\u001b[39mrandom\u001b[38;5;241m.\u001b[39mchoice([\u001b[38;5;241m1\u001b[39m,\u001b[38;5;241m2\u001b[39m,\u001b[38;5;241m3\u001b[39m,\u001b[38;5;241m4\u001b[39m], n, p\u001b[38;5;241m=\u001b[39m[\u001b[38;5;241m0.80\u001b[39m,\u001b[38;5;241m0.15\u001b[39m,\u001b[38;5;241m0.04\u001b[39m,\u001b[38;5;241m0.01\u001b[39m]),\n\u001b[0;32m    108\u001b[0m         \u001b[38;5;124m\"\u001b[39m\u001b[38;5;124mlanguage\u001b[39m\u001b[38;5;124m\"\u001b[39m: np\u001b[38;5;241m.\u001b[39mrandom\u001b[38;5;241m.\u001b[39mchoice(\u001b[38;5;28mself\u001b[39m\u001b[38;5;241m.\u001b[39mlanguages, n, p\u001b[38;5;241m=\u001b[39m[\u001b[38;5;241m0.70\u001b[39m,\u001b[38;5;241m0.15\u001b[39m,\u001b[38;5;241m0.10\u001b[39m,\u001b[38;5;241m0.05\u001b[39m]),\n\u001b[0;32m    109\u001b[0m         \u001b[38;5;124m\"\u001b[39m\u001b[38;5;124mdwell_months\u001b[39m\u001b[38;5;124m\"\u001b[39m: np\u001b[38;5;241m.\u001b[39mrandom\u001b[38;5;241m.\u001b[39mrandint(\u001b[38;5;241m0\u001b[39m, \u001b[38;5;241m37\u001b[39m, n),\n\u001b[0;32m    110\u001b[0m         \u001b[38;5;124m\"\u001b[39m\u001b[38;5;124mavailable_from\u001b[39m\u001b[38;5;124m\"\u001b[39m: [\n\u001b[0;32m    111\u001b[0m             (datetime\u001b[38;5;241m.\u001b[39mtoday() \u001b[38;5;241m+\u001b[39m timedelta(days\u001b[38;5;241m=\u001b[39m\u001b[38;5;28mint\u001b[39m(x)))\u001b[38;5;241m.\u001b[39mdate()\n\u001b[0;32m    112\u001b[0m             \u001b[38;5;28;01mfor\u001b[39;00m x \u001b[38;5;129;01min\u001b[39;00m np\u001b[38;5;241m.\u001b[39mrandom\u001b[38;5;241m.\u001b[39mrandint(\u001b[38;5;241m0\u001b[39m, \u001b[38;5;241m365\u001b[39m, n)\n\u001b[0;32m    113\u001b[0m         ],\n\u001b[0;32m    114\u001b[0m     })\n\u001b[0;32m    116\u001b[0m     \u001b[38;5;66;03m# PME–rank sanity: no SLC for E-3/E-4\u001b[39;00m\n\u001b[0;32m    117\u001b[0m     df\u001b[38;5;241m.\u001b[39mloc[df[\u001b[38;5;124m\"\u001b[39m\u001b[38;5;124mpaygrade\u001b[39m\u001b[38;5;124m\"\u001b[39m]\u001b[38;5;241m.\u001b[39misin([\u001b[38;5;124m\"\u001b[39m\u001b[38;5;124mE-3\u001b[39m\u001b[38;5;124m\"\u001b[39m,\u001b[38;5;124m\"\u001b[39m\u001b[38;5;124mE-4\u001b[39m\u001b[38;5;124m\"\u001b[39m]) \u001b[38;5;241m&\u001b[39m (df[\u001b[38;5;124m\"\u001b[39m\u001b[38;5;124mpme\u001b[39m\u001b[38;5;124m\"\u001b[39m] \u001b[38;5;241m==\u001b[39m \u001b[38;5;124m\"\u001b[39m\u001b[38;5;124mSLC\u001b[39m\u001b[38;5;124m\"\u001b[39m), \u001b[38;5;124m\"\u001b[39m\u001b[38;5;124mpme\u001b[39m\u001b[38;5;124m\"\u001b[39m] \u001b[38;5;241m=\u001b[39m \u001b[38;5;124m\"\u001b[39m\u001b[38;5;124mNone\u001b[39m\u001b[38;5;124m\"\u001b[39m\n",
      "File \u001b[1;32mnumpy\\\\random\\\\mtrand.pyx:968\u001b[0m, in \u001b[0;36mnumpy.random.mtrand.RandomState.choice\u001b[1;34m()\u001b[0m\n",
      "\u001b[1;31mValueError\u001b[0m: 'a' and 'p' must have same size"
     ]
    }
   ],
   "source": [
    "from exercise_builder import ExerciseBuilder, ExerciseBuilderConfig\n",
    "\n",
    "cfg = ExerciseBuilderConfig(\n",
    "    mission_name=\"ValiantShield\",  # ArcticEdge | ValiantShield | OrientShield | TalismanSabre\n",
    "    n_soldiers=800,\n",
    "    n_billets=75,\n",
    "    seed=42,\n",
    "    use_agent_loop=True,           # Optional: use the tuning loop\n",
    "    target_fill=0.98,\n",
    "    max_cost=2e6\n",
    ")\n",
    "\n",
    "builder = ExerciseBuilder(cfg)\n",
    "out = builder.build()\n",
    "\n",
    "print(out.summary)\n",
    "print(out.assignments.head(10))\n",
    "\n",
    "# Optional QA + export\n",
    "snap = builder.readiness_snapshot(out.assignments)\n",
    "print(snap)\n",
    "\n",
    "builder.export(out.assignments, out.summary, prefix=cfg.mission_name)\n",
    "\n"
   ]
  },
  {
   "cell_type": "code",
   "execution_count": null,
   "id": "c28d5a8c",
   "metadata": {},
   "outputs": [],
   "source": []
  },
  {
   "cell_type": "code",
   "execution_count": null,
   "id": "0365f17e",
   "metadata": {},
   "outputs": [],
   "source": []
  }
 ],
 "metadata": {
  "kernelspec": {
   "display_name": "Python 3",
   "language": "python",
   "name": "python3"
  },
  "language_info": {
   "codemirror_mode": {
    "name": "ipython",
    "version": 3
   },
   "file_extension": ".py",
   "mimetype": "text/x-python",
   "name": "python",
   "nbconvert_exporter": "python",
   "pygments_lexer": "ipython3",
   "version": "3.12.10"
  }
 },
 "nbformat": 4,
 "nbformat_minor": 5
}
